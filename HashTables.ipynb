{
 "cells": [
  {
   "cell_type": "code",
   "execution_count": 130,
   "metadata": {},
   "outputs": [],
   "source": [
    "import matplotlib.pyplot as plt \n",
    "import string \n",
    "import numpy as np\n",
    "\n",
    "\n",
    "class Listnode():\n",
    "    def __init__(self, key = -1, val = 0, next = None):\n",
    "        self.key = key \n",
    "        self.val = val \n",
    "        self.next = next \n",
    "        self.head = None\n",
    "\n",
    "class Hashtable():\n",
    "\n",
    "    def __init__(self,size):\n",
    "        self.Map = [ Listnode() for _ in range(size)]\n",
    "\n",
    "    def hash(self,key):\n",
    "        con = int(''.join(str(ord(c)) for c in key))\n",
    "        return con % len(self.Map)\n",
    "\n",
    "    def insert(self,key, value = 1):\n",
    "        cur = self.Map[self.hash(key)]\n",
    "        exists = False\n",
    "        while cur.next:\n",
    "            if cur.next.key == key:\n",
    "                exists = True\n",
    "                self.increase(key)\n",
    "            cur = cur.next \n",
    "        if exists == False:\n",
    "            cur.next = Listnode(key,value)\n",
    "\n",
    "    def search(self,key):\n",
    "        cur = self.Map[self.hash(key)].next # No need to check the dummy node's value \n",
    "        while cur:\n",
    "            if cur.key == key:\n",
    "                return print(cur.key + \" with the value \" + str(cur.val) + \" at the index \" + str(self.hash(key)))\n",
    "            cur = cur.next \n",
    "        print(\"value not found in the hash table\")\n",
    "\n",
    "    def delete(self,key):\n",
    "        cur = self.Map[self.hash(key)]\n",
    "        while cur and cur.next:\n",
    "            if cur.next.key == key:\n",
    "                cur.next = cur.next.next\n",
    "                print(\"Successfully deleted\")\n",
    "                return \n",
    "            else:\n",
    "                print(\"Key is not there to delete\")\n",
    "            cur = cur.next \n",
    "       \n",
    "\n",
    "    def increase(self,key):\n",
    "        cur = self.Map[self.hash(key)]\n",
    "        while cur.next:\n",
    "            if cur.next.key == key:\n",
    "                #print (\"Before\", cur.next.val)\n",
    "                cur.next.val += 1\n",
    "                #print (\"After\", cur.next.val)\n",
    "                return \n",
    "            \n",
    "    def listkeys(self):\n",
    "        for i in self.Map:\n",
    "            curr = i.next\n",
    "            while curr:\n",
    "                print(curr.key)\n",
    "                curr = curr.next\n",
    "\n",
    "        \n",
    "    def histogram(self):\n",
    "            length = []\n",
    "            for i in range(len(self.Map)):\n",
    "                lenn = 0\n",
    "                curr = self.Map[i].next\n",
    "                while curr:\n",
    "                    lenn += 1\n",
    "                    curr = curr.next \n",
    "                length.append(lenn)\n",
    "\n",
    "            variance = np.var(length)  # Calculate the variance\n",
    "            plt.bar(range(len(length)), length)\n",
    "            plt.title(f\"Histogram of length of collision lists (Variance: {variance:.2f})\")\n",
    "            plt.xlabel(\"Hash index\")\n",
    "            plt.ylabel(\"Length of collision list\")\n",
    "        \n",
    "        \n",
    "        \n",
    "\n",
    "        "
   ]
  },
  {
   "cell_type": "code",
   "execution_count": 140,
   "metadata": {},
   "outputs": [],
   "source": [
    "def readtext(filename):\n",
    "        wordlist = []\n",
    "        with open(filename, 'r') as file:\n",
    "            translator = str.maketrans('', '', string.punctuation)\n",
    "            for line in file:\n",
    "                words = line.split()\n",
    "                for word in words:\n",
    "                    neat = ''.join(filter(str.isalnum, word.lower()))\n",
    "                    neat = neat.translate(translator)\n",
    "                    wordlist.append(neat)\n",
    "        return wordlist"
   ]
  },
  {
   "cell_type": "code",
   "execution_count": 141,
   "metadata": {},
   "outputs": [
    {
     "name": "stdout",
     "output_type": "stream",
     "text": [
      "morning\n",
      "hemant\n",
      "night\n",
      "a\n",
      "b\n",
      "evening\n",
      "morning with the value 1 at the index 3\n"
     ]
    },
    {
     "data": {
      "image/png": "[encoded data removed]",
      "text/plain": [
       "<Figure size 432x288 with 1 Axes>"
      ]
     },
     "metadata": {
      "needs_background": "light"
     },
     "output_type": "display_data"
    }
   ],
   "source": [
    "\n",
    "    \n",
    "s = Hashtable(300)\n",
    "s.insert(\"hemant\")\n",
    "s.insert(\"morning\")\n",
    "s.insert(\"hemant\")\n",
    "s.insert(\"evening\")\n",
    "s.insert(\"hemant\")\n",
    "s.insert(\"night\")\n",
    "s.insert(\"hemant\")\n",
    "#s.delete(\"hemant\")\n",
    "s.insert(\"a\")\n",
    "s.insert(\"b\")\n",
    "\n",
    "\n",
    "s.listkeys()\n",
    "\n",
    "s.search(\"morning\")\n",
    "\n",
    "s.histogram()\n"
   ]
  },
  {
   "cell_type": "code",
   "execution_count": 142,
   "metadata": {},
   "outputs": [
    {
     "name": "stdout",
     "output_type": "stream",
     "text": [
      "['it', 'was', 'the', 'white', 'rabbit', 'trotting', 'slowly', 'back', 'again', 'and', 'looking', 'anxiously', 'about', 'as', 'it', 'went', 'as', 'if', 'it', 'had', 'lost', 'something', 'alice', 'heard', 'it', 'muttering', 'to', 'itself', 'the', 'duchess', 'the', 'duchess', 'oh', 'my', 'dear', 'paws', 'oh', 'my', 'fur', 'and', 'whiskers', 'shell', 'get', 'me', 'executed', 'as', 'sure', 'as', 'ferrets', 'are', 'ferrets', 'where', 'can', 'i', 'have', 'dropped', 'them', 'i', 'wonder', 'alice', 'guessed', 'in', 'a', 'moment', 'that', 'it', 'was', 'looking', 'for', 'the', 'fan', 'and', 'the', 'pair', 'of', 'white', 'kidgloves', 'and', 'she', 'very', 'goodnaturedly', 'began', 'hunting', 'about', 'for', 'them', 'but', 'they', 'were', 'nowhere', 'to', 'be', 'seen', 'everything', 'seemed', 'to', 'have', 'changed', 'since', 'her', 'swim', 'in', 'the', 'pool', 'and', 'the', 'great', 'hall', 'with', 'the', 'glass', 'table', 'and', 'the', 'little', 'door', 'had', 'vanished', 'completely', 'very', 'soon', 'the', 'rabbit', 'noticed', 'alice', 'and', 'called', 'to', 'her', 'in', 'an', 'angry', 'tone', 'why', 'mary', 'ann', 'what', 'are', 'you', 'doing', 'out', 'here', 'run', 'home', 'this', 'moment', 'and', 'fetch', 'me', 'a', 'pair', 'of', 'gloves', 'and', 'a', 'fan', 'quick', 'now', 'he', 'took', 'me', 'for', 'his', 'housemaid', 'said', 'alice', 'as', 'she', 'ran', 'off', 'how', 'surprised', 'hell', 'be', 'when', 'he', 'finds', 'out', 'who', 'i', 'am', 'as', 'she', 'said', 'this', 'she', 'came', 'upon', 'a', 'neat', 'little', 'house', 'on', 'the', 'door', 'of', 'which', 'was', 'a', 'bright', 'brass', 'plate', 'with', 'the', 'name', 'w', 'rabbit', 'engraved', 'upon', 'it', 'she', 'went', 'in', 'without', 'knocking', 'and', 'hurried', 'upstairs', 'in', 'great', 'fear', 'lest', 'she', 'should', 'meet', 'the', 'real', 'mary', 'ann', 'and', 'be', 'turned', 'out', 'of', 'the', 'house', 'before', 'she', 'had', 'found', 'the', 'fan', 'and', 'gloves']\n"
     ]
    },
    {
     "data": {
      "image/png": "[encoded data removed]",
      "text/plain": [
       "<Figure size 432x288 with 1 Axes>"
      ]
     },
     "metadata": {
      "needs_background": "light"
     },
     "output_type": "display_data"
    }
   ],
   "source": [
    "\n",
    "hash = Hashtable(300)\n",
    "\n",
    "wordoutput = readtext(filename= r'C:Users\\\\Hemant\\\\Downloads\\\\alice.txt')\n",
    "print(wordoutput)\n",
    "\n",
    "for word in wordoutput[1:10]:\n",
    "    hash.insert(word)\n",
    "hash.histogram()"
   ]
  },
  {
   "cell_type": "code",
   "execution_count": null,
   "metadata": {},
   "outputs": [],
   "source": []
  },
  {
   "cell_type": "code",
   "execution_count": null,
   "metadata": {},
   "outputs": [],
   "source": []
  }
 ],
 "metadata": {
  "kernelspec": {
   "display_name": "Python 3",
   "language": "python",
   "name": "python3"
  },
  "language_info": {
   "codemirror_mode": {
    "name": "ipython",
    "version": 3
   },
   "file_extension": ".py",
   "mimetype": "text/x-python",
   "name": "python",
   "nbconvert_exporter": "python",
   "pygments_lexer": "ipython3",
   "version": "3.9.7"
  }
 },
 "nbformat": 4,
 "nbformat_minor": 2
}

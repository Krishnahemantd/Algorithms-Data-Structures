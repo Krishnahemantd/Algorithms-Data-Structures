{
 "cells": [
  {
   "cell_type": "code",
   "execution_count": 49,
   "metadata": {},
   "outputs": [],
   "source": [
    "import matplotlib.pyplot as plt \n",
    "\n",
    "\n",
    "class Listnode():\n",
    "    def __init__(self, key = -1, val = 0, next = None):\n",
    "        self.key = key \n",
    "        self.val = val \n",
    "        self.next = next \n",
    "        self.head = None\n",
    "\n",
    "class Hashtable():\n",
    "\n",
    "    def __init__(self):\n",
    "        self.Map = [ Listnode() for _ in range(30)]\n",
    "\n",
    "    def hash(self,key):\n",
    "        con = int(''.join(str(ord(c)) for c in key))\n",
    "        return con % len(self.Map)\n",
    "\n",
    "    def insert(self,key, value = 1):\n",
    "        cur = self.Map[self.hash(key)]\n",
    "        exists = False\n",
    "        while cur.next:\n",
    "            if cur.next.key == key:\n",
    "                exists = True\n",
    "                self.increase(key)\n",
    "            cur = cur.next \n",
    "        if exists == False:\n",
    "            cur.next = Listnode(key,value)\n",
    "\n",
    "    def search(self,key):\n",
    "        cur = self.Map[self.hash(key)].next # No need to check the dummy node's value \n",
    "        while cur:\n",
    "            if cur.key == key:\n",
    "                return print(cur.key + \" with the value \" + str(cur.val) + \" at the index \" + str(self.hash(key)))\n",
    "            cur = cur.next \n",
    "        print(\"value not found in the hash table\")\n",
    "\n",
    "    def delete(self,key):\n",
    "        cur = self.Map[self.hash(key)]\n",
    "        while cur and cur.next:\n",
    "            if cur.next.key == key:\n",
    "                cur.next = cur.next.next\n",
    "                print(\"Successfully deleted\")\n",
    "                return \n",
    "            else:\n",
    "                print(\"Key is not there to delete\")\n",
    "            cur = cur.next \n",
    "       \n",
    "\n",
    "    def increase(self,key):\n",
    "        cur = self.Map[self.hash(key)]\n",
    "        while cur.next:\n",
    "            if cur.next.key == key:\n",
    "                #print (\"Before\", cur.next.val)\n",
    "                cur.next.val += 1\n",
    "                #print (\"After\", cur.next.val)\n",
    "                return \n",
    "            \n",
    "    def listkeys(self):\n",
    "        for i in self.Map:\n",
    "            curr = i.next\n",
    "            while curr:\n",
    "                print(curr.key)\n",
    "                curr = curr.next\n",
    "        \n",
    "    def histogram(self):\n",
    "        length = []\n",
    "        for i in range(len(self.Map)):\n",
    "            lenn = 0\n",
    "            curr = self.Map[i].next \n",
    "            while curr:\n",
    "                lenn += 1\n",
    "                curr = curr.next \n",
    "            length.append(lenn)\n",
    "\n",
    "        plt.bar(range(len(length)),length)\n",
    "        plt.title(\"Histogram of length of collision lists\")\n",
    "        plt.xlabel(\"hash index\")\n",
    "        plt.ylabel(\"length of collision list\")\n",
    "        \n",
    "        \n",
    "        \n",
    "\n",
    "        "
   ]
  },
  {
   "cell_type": "code",
   "execution_count": null,
   "metadata": {},
   "outputs": [],
   "source": []
  },
  {
   "cell_type": "code",
   "execution_count": 50,
   "metadata": {},
   "outputs": [
    {
     "name": "stdout",
     "output_type": "stream",
     "text": [
      "Successfully deleted\n",
      "value not found in the hash table\n"
     ]
    },
    {
     "data": {
      "image/png": "[encoded data removed]",
      "text/plain": [
       "<Figure size 432x288 with 1 Axes>"
      ]
     },
     "metadata": {
      "needs_background": "light"
     },
     "output_type": "display_data"
    }
   ],
   "source": [
    "\n",
    "    \n",
    "s = Hashtable()\n",
    "s.insert(\"hemant\")\n",
    "s.insert(\"morning\")\n",
    "s.insert(\"hemant\")\n",
    "s.insert(\"evening\")\n",
    "s.insert(\"hemant\")\n",
    "s.insert(\"night\")\n",
    "s.insert(\"hemant\")\n",
    "s.delete(\"hemant\")\n",
    "s.insert(\"a\")\n",
    "s.insert(\"b\")\n",
    "\n",
    "\n",
    "#s.listkeys()\n",
    "\n",
    "s.search(\"hemant\")\n",
    "\n",
    "s.histogram()\n"
   ]
  },
  {
   "cell_type": "code",
   "execution_count": null,
   "metadata": {},
   "outputs": [],
   "source": []
  },
  {
   "cell_type": "code",
   "execution_count": null,
   "metadata": {},
   "outputs": [],
   "source": []
  },
  {
   "cell_type": "code",
   "execution_count": null,
   "metadata": {},
   "outputs": [],
   "source": []
  }
 ],
 "metadata": {
  "kernelspec": {
   "display_name": "Python 3",
   "language": "python",
   "name": "python3"
  },
  "language_info": {
   "codemirror_mode": {
    "name": "ipython",
    "version": 3
   },
   "file_extension": ".py",
   "mimetype": "text/x-python",
   "name": "python",
   "nbconvert_exporter": "python",
   "pygments_lexer": "ipython3",
   "version": "3.9.7"
  }
 },
 "nbformat": 4,
 "nbformat_minor": 2
}

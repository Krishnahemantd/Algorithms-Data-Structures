{
 "cells": [
  {
   "cell_type": "code",
   "execution_count": 16,
   "metadata": {},
   "outputs": [],
   "source": [
    "class Node:\n",
    "    def __init__(self,data): # Creating a node \n",
    "        self.data = data\n",
    "        self.ref = None\n",
    "\n",
    "class linkedlist:\n",
    "    def __init__(self):\n",
    "        self.head = None\n",
    "\n",
    "    def printlist(self): \n",
    "        L = list()     # Traversal operation\n",
    "        if self.head is None:\n",
    "            print(\"The Linked List is empty\")\n",
    "        else:\n",
    "            n = self.head\n",
    "            while n is not None:\n",
    "                L.append(n.data)\n",
    "                n = n.ref\n",
    "        return L\n",
    "    \n",
    "    def Countsize(self): # Counting the length of the list for later operations\n",
    "        self.count = 0\n",
    "        if self.head is None:\n",
    "            print(\"The Linked List is empty\")\n",
    "        else:\n",
    "            n = self.head\n",
    "            while n is not None:\n",
    "                 n = n.ref\n",
    "                 self.count += 1 \n",
    "            return self.count \n",
    "\n",
    "\n",
    "class Intersect:\n",
    "    def intersect(self,l1,l2): # Finding the intersection point \n",
    "        \n",
    "        if l1.Countsize() - l2.Countsize() > 0:  # Checking the size to assign a as the head of the longer list for traversal\n",
    "            diff = l1.Countsize() - l2.Countsize()\n",
    "            a = l1.head\n",
    "            b = l2.head\n",
    "        \n",
    "        else: \n",
    "            diff = l2.Countsize() - l1.Countsize()\n",
    "            a = l2.head\n",
    "            b = l1.head\n",
    "\n",
    "        i = 0\n",
    "        while i < diff: # Offsetting pointer to match list lengths \n",
    "                i+=1\n",
    "                a = a.ref\n",
    "        \n",
    "        while a is not b: # Finding the common node \n",
    "            a= a.ref\n",
    "            b=b.ref\n",
    "        \n",
    "            return a.data # Returning the node \n",
    "\n"
   ]
  },
  {
   "cell_type": "code",
   "execution_count": 17,
   "metadata": {},
   "outputs": [],
   "source": [
    "def addbegin(data,listx : linkedlist): # Addimg new node at the beginning \n",
    "    new_node = Node(data)\n",
    "    new_node.ref = listx.head\n",
    "    listx.head = new_node\n",
    "\n",
    "def addend(data,listx): # adding at the end \n",
    "    new_node = Node(data)\n",
    "    if listx.head is None: \n",
    "        listx.head = new_node\n",
    "\n",
    "    else:\n",
    "        n = listx.head\n",
    "        while n.ref is not None:\n",
    "            n = n.ref \n",
    "        n.ref = new_node\n",
    "\n",
    "\n",
    "\n",
    "list1 = linkedlist()\n",
    "list2 = linkedlist()\n",
    "\n",
    "addbegin(40,list1)  # Creating lists \n",
    "addbegin(32,list2)\n",
    "addbegin(12,list2)\n",
    "addbegin(12,list1)\n",
    "addbegin(3,list1)\n",
    "for i in range(3):\n",
    "    addend(data = i,listx = list1)\n",
    "    addend(data = i,listx = list2)\n",
    "\n"
   ]
  },
  {
   "cell_type": "code",
   "execution_count": 18,
   "metadata": {},
   "outputs": [
    {
     "name": "stdout",
     "output_type": "stream",
     "text": [
      "[3, 12, 40, 0, 1, 2] [12, 32, 0, 1, 2]\n"
     ]
    }
   ],
   "source": [
    "print(list1.printlist(),list2.printlist()) # A look at the lists \n"
   ]
  },
  {
   "cell_type": "code",
   "execution_count": 19,
   "metadata": {},
   "outputs": [
    {
     "name": "stdout",
     "output_type": "stream",
     "text": [
      "The intersecting node is 40\n"
     ]
    }
   ],
   "source": [
    "Result = Intersect() # Result \n",
    "print(\"The intersecting node is\", Result.intersect(list1,list2))"
   ]
  },
  {
   "cell_type": "code",
   "execution_count": null,
   "metadata": {},
   "outputs": [],
   "source": []
  }
 ],
 "metadata": {
  "kernelspec": {
   "display_name": "Python 3",
   "language": "python",
   "name": "python3"
  },
  "language_info": {
   "codemirror_mode": {
    "name": "ipython",
    "version": 3
   },
   "file_extension": ".py",
   "mimetype": "text/x-python",
   "name": "python",
   "nbconvert_exporter": "python",
   "pygments_lexer": "ipython3",
   "version": "3.7.6"
  },
  "orig_nbformat": 4
 },
 "nbformat": 4,
 "nbformat_minor": 2
}

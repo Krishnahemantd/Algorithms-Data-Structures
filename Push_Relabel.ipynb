{
 "cells": [
  {
   "cell_type": "code",
   "execution_count": null,
   "metadata": {},
   "outputs": [],
   "source": [
    "class Vertex:\n",
    "    def __init__(self, height, excess):\n",
    "        self.height = height \n",
    "        self.excess = excess \n",
    "\n",
    "class Edge:\n",
    "    def __init__(self,u,v,capacity,flow):\n",
    "        self.u = u\n",
    "        self.v = v\n",
    "        self.flow = flow \n",
    "        self.capacity = capacity\n",
    "    \n",
    "class PushRelabel:\n",
    "\n",
    "    def __init__(self,VertNum):\n",
    "        self.VertNum = VertNum\n",
    "        self.edge = [] #edges in a list\n",
    "        self.ve = [] # list of vertices \n",
    "        for i in range(V):\n",
    "            self.ve.append(Vertex(0,0)) # creating a initial flow network\n",
    "\n",
    "    def new_edge(self,u,v,capacity): # adding a edge using the previous edge class, similar to a node in a LL\n",
    "\n",
    "        self.edge.append(Edge(u,v,capacity, 0)) # adding a new edge with 0 flow \n",
    "\n",
    "\n",
    "    def push(self,u,v):\n",
    "\n",
    "    def relabel(self,u,v):\n",
    "\n",
    "    def discharge(self):\n",
    "\n",
    "    def maxflow(self):\n",
    "\n",
    "    def printflow(self):\n",
    "\n",
    "\n"
   ]
  }
 ],
 "metadata": {
  "language_info": {
   "name": "python"
  }
 },
 "nbformat": 4,
 "nbformat_minor": 2
}

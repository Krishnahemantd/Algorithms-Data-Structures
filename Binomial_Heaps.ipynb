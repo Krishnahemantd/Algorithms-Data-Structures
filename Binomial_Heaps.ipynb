{
 "cells": [
  {
   "cell_type": "code",
   "execution_count": null,
   "metadata": {},
   "outputs": [],
   "source": [
    "class Node():\n",
    "    def __init__(self,key):\n",
    "        self.key = key \n",
    "        self.parent = None\n",
    "        self.child = []\n",
    "        self.sibling = None\n",
    "        self.mark = None \n",
    "\n",
    "class BinomialHeap():\n",
    "    def __init__(self):\n",
    "        self.trees = []\n",
    "        self.Head = None\n",
    "        self.degree = None\n",
    "        self.min = None\n",
    "        self.count = 0 \n",
    "\n",
    "    def insert(self,key):\n",
    "\n",
    "    def extractmin(self):\n",
    "         \n",
    "    def decrease_key(self,key):\n",
    "         \n",
    "\n",
    "\n",
    "    def consolidate(self):\n",
    "\n",
    "    def minHEAP():\n",
    "\n",
    "         \n",
    "\n",
    "\n",
    "    def search(self,key):\n",
    "\n",
    "    def merge(self):\n",
    "\n",
    "        curr = self.head \n",
    "\n",
    "        if (curr.degree != curr.next.degree) or (curr.degree == curr.next.degree and curr.next.degree == curr.next.next.degree):\n",
    "            curr = curr.next \n",
    "            curr.next = curr.next.next \n",
    "            curr.next.next = curr.next.next.next # improve\n",
    "\n",
    "        elif  (curr.degree == curr.next.degree and curr.next.degree != curr.next.next.degree):\n",
    "                if curr.key < curr.next.key:\n",
    "                     curr.child[left] = curr.next\n",
    "                else:\n",
    "                     curr.next.child[left] = curr\n",
    "\n",
    "        return \n"
   ]
  }
 ],
 "metadata": {
  "language_info": {
   "name": "python"
  }
 },
 "nbformat": 4,
 "nbformat_minor": 2
}

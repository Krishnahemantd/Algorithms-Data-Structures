{
 "cells": [
  {
   "cell_type": "code",
   "execution_count": null,
   "metadata": {},
   "outputs": [],
   "source": [
    "class Node():\n",
    "    def __init__(self):\n",
    "        self.key = key \n",
    "        self.p = None\n",
    "        self.c = []\n",
    "        self.mark = None \n",
    "\n",
    "class BinomialHeap():\n",
    "    def __init__(self):\n",
    "        self.trees = []\n",
    "        self.min = None\n",
    "        self.count = 0 \n",
    "\n",
    "    def insert():\n",
    "\n",
    "    def min():\n",
    "\n",
    "    def minHEAP():\n",
    "\n",
    "    def delete():\n",
    "\n",
    "    def search():\n",
    "\n",
    "    def merge():\n"
   ]
  }
 ],
 "metadata": {
  "language_info": {
   "name": "python"
  }
 },
 "nbformat": 4,
 "nbformat_minor": 2
}

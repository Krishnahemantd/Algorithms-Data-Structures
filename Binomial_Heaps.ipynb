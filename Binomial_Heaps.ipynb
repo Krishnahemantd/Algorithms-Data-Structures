{
 "cells": [
  {
   "cell_type": "code",
   "execution_count": 2,
   "metadata": {},
   "outputs": [
    {
     "ename": "IndentationError",
     "evalue": "expected an indented block (3958573532.py, line 56)",
     "output_type": "error",
     "traceback": [
      "\u001b[1;36m  File \u001b[1;32m\"C:\\Users\\Hemant\\AppData\\Local\\Temp\\ipykernel_24248\\3958573532.py\"\u001b[1;36m, line \u001b[1;32m56\u001b[0m\n\u001b[1;33m    def search(self,key):\u001b[0m\n\u001b[1;37m      ^\u001b[0m\n\u001b[1;31mIndentationError\u001b[0m\u001b[1;31m:\u001b[0m expected an indented block\n"
     ]
    }
   ],
   "source": [
    "class Node():\n",
    "    def __init__(self,key):\n",
    "        self.key = key \n",
    "        self.parent = None\n",
    "        self.child = []\n",
    "        self.order = 0\n",
    "        self.sibling = None\n",
    "        self.mark = None \n",
    "\n",
    "class BinomialHeap():\n",
    "    def __init__(self):\n",
    "        self.rootlist = []\n",
    "        self.Head = None\n",
    "        self.min = None\n",
    "        self.count = 0 #total elements\n",
    "\n",
    "    def makeheap(self):\n",
    "\n",
    "        heap = BinomialHeap()\n",
    "        return heap\n",
    "\n",
    "    def insert(self,key):\n",
    "         \n",
    "        node = Node(key)\n",
    "        new_heap = self.makeheap()\n",
    "        new_heap.Head = key\n",
    "        self.union(new_heap)\n",
    "        \n",
    "\n",
    "    def findmin(self):\n",
    "        if self.min is None:\n",
    "            return None\n",
    "        return self.min.key # Minimum of the main list\n",
    "\n",
    "    def extractmin(self):\n",
    "         \n",
    "        minimum = self.findmin()\n",
    "        if minimum is not None:\n",
    "            for i in minimum.child:\n",
    "                self.rootlist.append(i)\n",
    "        self.rootlist.remove(minimum)\n",
    "        if self.rootlist == []:\n",
    "            self.min = None\n",
    "        else:\n",
    "            self.min = self.trees[0]\n",
    "            self.union()\n",
    "        self.count -= 1 # reducing count after removing min\n",
    "        return minimum.key\n",
    "            \n",
    "    def decrease_key(self,node,value):\n",
    "        if value > node.key:\n",
    "            print(\"cannot decrease\")\n",
    "        else: \n",
    "            node.key = value \n",
    "        parent = node.parent\n",
    "        while parent is not None and node.key < parent.key:\n",
    "            node.key,parent.key = parent.key,node.key # float it all the way up\n",
    "            node,parent = parent, node     \n",
    "         \n",
    "    def delete(self,key):\n",
    "        val= float('-inf')\n",
    "        self.decrease_key(key,val) # assign a really small value to the node and float it up\n",
    "        self.extractmin() # delete/remove  the node \n",
    "        \n",
    "         \n",
    "    def union(self,new_heap):\n",
    "\n",
    "        \n"
   ]
  },
  {
   "cell_type": "code",
   "execution_count": null,
   "metadata": {},
   "outputs": [],
   "source": []
  }
 ],
 "metadata": {
  "kernelspec": {
   "display_name": "Python 3",
   "language": "python",
   "name": "python3"
  },
  "language_info": {
   "codemirror_mode": {
    "name": "ipython",
    "version": 3
   },
   "file_extension": ".py",
   "mimetype": "text/x-python",
   "name": "python",
   "nbconvert_exporter": "python",
   "pygments_lexer": "ipython3",
   "version": "3.7.6"
  }
 },
 "nbformat": 4,
 "nbformat_minor": 2
}
